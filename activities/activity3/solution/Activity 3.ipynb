{
 "cells": [
  {
   "cell_type": "code",
   "execution_count": null,
   "id": "d17eef94-e182-4acf-bba5-4aedfcb40201",
   "metadata": {},
   "outputs": [],
   "source": [
    "# !pip install llama-index\n",
    "# !pip install llama-index-llms-llamafile\n",
    "# !pip install llama-index-embeddings-llamafile"
   ]
  },
  {
   "cell_type": "code",
   "execution_count": null,
   "id": "671aace5-a920-4371-bf13-dfe507280656",
   "metadata": {},
   "outputs": [],
   "source": [
    "from llama_index.core import Settings\n",
    "from llama_index.embeddings.llamafile import LlamafileEmbedding\n",
    "from llama_index.llms.llamafile import Llamafile\n",
    "from llama_index.readers.file import CSVReader\n",
    "from llama_index.core import VectorStoreIndex\n",
    "from pathlib import Path"
   ]
  },
  {
   "cell_type": "code",
   "execution_count": null,
   "id": "9e167597-8857-4cbd-ac2b-9ef4f75bbe69",
   "metadata": {},
   "outputs": [],
   "source": [
    "Settings.embed_model = LlamafileEmbedding(base_url=\"http://localhost:8080\", request_timeout=600)\n",
    "Settings.llm = Llamafile(base_url=\"http://localhost:8080\", request_timeout=600, temperature=0, seed=0)\n"
   ]
  },
  {
   "cell_type": "code",
   "execution_count": null,
   "id": "da5d65d0-1f62-4432-be14-e7c496b19311",
   "metadata": {},
   "outputs": [],
   "source": [
    "file = Path('csvdata/shows.csv')\n",
    "csv_reader = CSVReader()\n",
    "docs = csv_reader.load_data(file=file)\n"
   ]
  },
  {
   "cell_type": "code",
   "execution_count": null,
   "id": "09e521f2-3560-4e78-a363-091d5e26a517",
   "metadata": {},
   "outputs": [],
   "source": [
    "# docs"
   ]
  },
  {
   "cell_type": "code",
   "execution_count": null,
   "id": "b56eb3cf-b428-49e7-94ad-1dad3e28f514",
   "metadata": {},
   "outputs": [],
   "source": [
    "index = VectorStoreIndex.from_documents(docs)"
   ]
  },
  {
   "cell_type": "code",
   "execution_count": null,
   "id": "e3018dad-b040-42b0-a957-6262062d94a6",
   "metadata": {},
   "outputs": [],
   "source": [
    "query_engine = index.as_query_engine()"
   ]
  },
  {
   "cell_type": "code",
   "execution_count": null,
   "id": "129cfa11-4a1b-44ba-a329-3b05224599a4",
   "metadata": {},
   "outputs": [],
   "source": [
    "# Query for main topic\n",
    "query = \"What is the main topic of the document?\"\n",
    "response = query_engine.query(query)\n",
    "print(response)\n"
   ]
  },
  {
   "cell_type": "code",
   "execution_count": null,
   "id": "d6609ffa-51d7-4709-92a8-ad2cccdbf3f7",
   "metadata": {},
   "outputs": [],
   "source": [
    "# Query for most watched show\n",
    "query = \"What is the most watched show?\"\n",
    "response = query_engine.query(query)\n",
    "print(response)"
   ]
  },
  {
   "cell_type": "code",
   "execution_count": null,
   "id": "7355f248-7ef4-4b3f-9cc7-3ed62623a9be",
   "metadata": {},
   "outputs": [],
   "source": [
    "retriever = index.as_retriever()\n",
    "nodes = retriever.retrieve(\"What is the most watched show?\")"
   ]
  },
  {
   "cell_type": "code",
   "execution_count": null,
   "id": "a5da04d0-b939-45e4-b8de-b60219a42a32",
   "metadata": {},
   "outputs": [],
   "source": [
    "len(nodes)"
   ]
  },
  {
   "cell_type": "code",
   "execution_count": null,
   "id": "8f03d249-35f2-482f-8fc9-00578655b7d6",
   "metadata": {},
   "outputs": [],
   "source": []
  },
  {
   "cell_type": "code",
   "execution_count": null,
   "id": "dd511b8c-7104-4a14-8e02-b016a38b5790",
   "metadata": {},
   "outputs": [],
   "source": []
  }
 ],
 "metadata": {
  "kernelspec": {
   "display_name": "Python [conda env:llms]",
   "language": "python",
   "name": "conda-env-llms-py"
  },
  "language_info": {
   "codemirror_mode": {
    "name": "ipython",
    "version": 3
   },
   "file_extension": ".py",
   "mimetype": "text/x-python",
   "name": "python",
   "nbconvert_exporter": "python",
   "pygments_lexer": "ipython3",
   "version": "3.11.9"
  }
 },
 "nbformat": 4,
 "nbformat_minor": 5
}
