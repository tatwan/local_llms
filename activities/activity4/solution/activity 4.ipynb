{
 "cells": [
  {
   "cell_type": "code",
   "execution_count": 1,
   "id": "29a301de-4e07-4500-a876-59372cbc5598",
   "metadata": {},
   "outputs": [],
   "source": [
    "from llama_index.core import Settings\n",
    "from llama_index.embeddings.llamafile import LlamafileEmbedding\n",
    "from llama_index.llms.llamafile import Llamafile\n"
   ]
  },
  {
   "cell_type": "code",
   "execution_count": 2,
   "id": "dca7480e-e19e-449d-a33f-1102805fe9c9",
   "metadata": {},
   "outputs": [],
   "source": [
    "Settings.embed_model = LlamafileEmbedding(base_url=\"http://localhost:8080\", request_timeout=600)\n",
    "Settings.llm = Llamafile(base_url=\"http://localhost:8080\", request_timeout=600, temperature=0, seed=0)"
   ]
  },
  {
   "cell_type": "code",
   "execution_count": 5,
   "id": "f6991bde-37d2-4a41-a2fa-ef78a309ac4b",
   "metadata": {},
   "outputs": [
    {
     "name": "stderr",
     "output_type": "stream",
     "text": [
      "Loading files: 100%|█████████████████████████████████████████████████████████████████████████████████████████████████████████████████████████████████████████████████████████████████████████████████████████████████████████████████████████████████████████████████████| 1/1 [00:00<00:00, 50.44file/s]\n"
     ]
    }
   ],
   "source": [
    "from llama_index.core import SimpleDirectoryReader\n",
    "local_doc_reader = SimpleDirectoryReader(input_dir='textdata/')\n",
    "docs = local_doc_reader.load_data(show_progress=True)"
   ]
  },
  {
   "cell_type": "code",
   "execution_count": 7,
   "id": "8f5b4811-e8ca-45e7-980e-5a2eb2466e60",
   "metadata": {},
   "outputs": [],
   "source": [
    "from llama_index.core import VectorStoreIndex\n",
    "index = VectorStoreIndex.from_documents(docs)\n"
   ]
  },
  {
   "cell_type": "code",
   "execution_count": 9,
   "id": "f1c76ebe-e357-4f92-90a4-5445fb21f549",
   "metadata": {},
   "outputs": [],
   "source": [
    "query_engine = index.as_query_engine()"
   ]
  },
  {
   "cell_type": "code",
   "execution_count": 11,
   "id": "e03cd938-3390-4081-9d06-12c09db23f51",
   "metadata": {},
   "outputs": [
    {
     "name": "stdout",
     "output_type": "stream",
     "text": [
      "The main topic of the document is Shakespeare's poetry and his views on love, marriage, and relationships.</s>\n"
     ]
    }
   ],
   "source": [
    "query = \"What is the main topic of the document?\"\n",
    "response = query_engine.query(query)\n",
    "print(response)"
   ]
  },
  {
   "cell_type": "code",
   "execution_count": 13,
   "id": "5f030526-a3a1-40a3-a5c8-2f6f1b62f170",
   "metadata": {},
   "outputs": [
    {
     "name": "stdout",
     "output_type": "stream",
     "text": [
      "The main characters in the document are Shakespeare, a famous English poet and playwright, and his two lovers, Rosalind and Celia.</s>\n"
     ]
    }
   ],
   "source": [
    "query = \"What are the main characters in the document?\"\n",
    "response = query_engine.query(query)\n",
    "print(response)"
   ]
  },
  {
   "cell_type": "code",
   "execution_count": 15,
   "id": "5a449ae1-f1aa-4d3e-ac61-f2976607f228",
   "metadata": {},
   "outputs": [],
   "source": [
    "retriever = index.as_retriever()\n",
    "nodes = retriever.retrieve(\"What are the main characters in the document?\")"
   ]
  },
  {
   "cell_type": "code",
   "execution_count": null,
   "id": "a0636f9f-2cd3-4b86-8da0-1efdf69f3802",
   "metadata": {},
   "outputs": [],
   "source": [
    "len(nodes)"
   ]
  },
  {
   "cell_type": "code",
   "execution_count": null,
   "id": "a06264b3-8d95-4626-b13d-0dd6e7ca2008",
   "metadata": {},
   "outputs": [],
   "source": [
    "nodes[0]"
   ]
  },
  {
   "cell_type": "code",
   "execution_count": null,
   "id": "1a916155-8b70-4166-8e61-3a5b13757a76",
   "metadata": {},
   "outputs": [],
   "source": []
  }
 ],
 "metadata": {
  "kernelspec": {
   "display_name": "Python [conda env:llms]",
   "language": "python",
   "name": "conda-env-llms-py"
  },
  "language_info": {
   "codemirror_mode": {
    "name": "ipython",
    "version": 3
   },
   "file_extension": ".py",
   "mimetype": "text/x-python",
   "name": "python",
   "nbconvert_exporter": "python",
   "pygments_lexer": "ipython3",
   "version": "3.11.9"
  }
 },
 "nbformat": 4,
 "nbformat_minor": 5
}
