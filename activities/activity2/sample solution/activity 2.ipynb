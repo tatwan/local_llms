{
 "cells": [
  {
   "cell_type": "code",
   "execution_count": 3,
   "id": "de7a16ef-47d1-4d49-a197-2fa49a89a060",
   "metadata": {},
   "outputs": [],
   "source": [
    "from openai import OpenAI\n",
    "\n",
    "client = OpenAI(\n",
    "    base_url=\"http://127.0.0.1:8080/v1\", #assuming LLamafile\n",
    "    api_key = \"NoNeed\"\n",
    ")\n",
    "\n",
    "# Function to generate an email\n",
    "def generate_email(subject, recipient_name, additional_info):\n",
    "    # Step 1: Create the prompt to guide the AI in generating the email\n",
    "    prompt = f\"Write a professional email to {recipient_name} with the subject '{subject}'. Include the following information: {additional_info}\"\n",
    "    \n",
    "    # Step 2: Call the OpenAI API to generate the email\n",
    "    # Hint: Use the 'chat' endpoint to create a completion based on the prompt\n",
    "    response = client.chat.completions.create(\n",
    "        model=\"TinyLLM\",  # Replace \"TinyLLama\" with the correct model\n",
    "        messages=[\n",
    "            {\"role\": \"system\", \"content\": \"You are a helpful assistant.\"},\n",
    "            {\"role\": \"user\", \"content\": prompt},\n",
    "        ],\n",
    "        max_tokens=  300,# add a value,\n",
    "        temperature= 0.4,# add a value,\n",
    "        top_p= 0.4,# add a value,\n",
    "        frequency_penalty= 0,# add a value,\n",
    "        presence_penalty= 0,# add a value\n",
    "    )\n",
    "    "
   ]
  },
  {
   "cell_type": "code",
   "execution_count": 11,
   "id": "ab1f1d47-aa7c-4763-8fc5-646e79924821",
   "metadata": {},
   "outputs": [],
   "source": [
    "def email_writing_assistant():\n",
    "    print(\"Welcome to the Email Writing Assistant!\\n\")\n",
    "    \n",
    "    # Step 4: Gather user input for the email subject, recipient name, and additional information\n",
    "    subject = input(\"Enter the email subject: \")\n",
    "    recipient_name = input(\"Enter the recipient's name: \")\n",
    "    additional_info = input(\"Enter any additional information to include in the email: \")\n",
    "    \n",
    "    # Step 5: Call the 'generate_email' function and display the generated email\n",
    "    email = generate_email(subject, recipient_name, additional_info)\n",
    "    print(f\"Email:\\n{email}\")"
   ]
  },
  {
   "cell_type": "code",
   "execution_count": 13,
   "id": "089a1f30-75e0-43aa-8405-c1331f97cd84",
   "metadata": {},
   "outputs": [
    {
     "name": "stdout",
     "output_type": "stream",
     "text": [
      "Welcome to the Email Writing Assistant!\n",
      "\n"
     ]
    },
    {
     "name": "stdin",
     "output_type": "stream",
     "text": [
      "Enter the email subject:  feeling sick\n",
      "Enter the recipient's name:  Sara\n",
      "Enter any additional information to include in the email:  I want 2 days off\n"
     ]
    },
    {
     "name": "stdout",
     "output_type": "stream",
     "text": [
      "Email:\n",
      "None\n"
     ]
    }
   ],
   "source": [
    "email_writing_assistant()"
   ]
  },
  {
   "cell_type": "code",
   "execution_count": null,
   "id": "20a1c4b3-17e8-4d59-9156-46dc9f58cb44",
   "metadata": {},
   "outputs": [],
   "source": []
  }
 ],
 "metadata": {
  "kernelspec": {
   "display_name": "Python [conda env:llms]",
   "language": "python",
   "name": "conda-env-llms-py"
  },
  "language_info": {
   "codemirror_mode": {
    "name": "ipython",
    "version": 3
   },
   "file_extension": ".py",
   "mimetype": "text/x-python",
   "name": "python",
   "nbconvert_exporter": "python",
   "pygments_lexer": "ipython3",
   "version": "3.11.9"
  }
 },
 "nbformat": 4,
 "nbformat_minor": 5
}
