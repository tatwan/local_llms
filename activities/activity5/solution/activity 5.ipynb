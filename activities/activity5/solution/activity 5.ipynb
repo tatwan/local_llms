{
 "cells": [
  {
   "cell_type": "code",
   "execution_count": null,
   "id": "9abfca3b-3c6a-4086-802d-e2ba706aa6e1",
   "metadata": {},
   "outputs": [],
   "source": [
    "import langchain"
   ]
  },
  {
   "cell_type": "code",
   "execution_count": null,
   "id": "424d64ac-877c-410e-b13a-e5af1771ac3b",
   "metadata": {},
   "outputs": [],
   "source": [
    "from langchain_community.llms.llamafile import Llamafile\n",
    "\n",
    "llm = Llamafile(temperature=0)\n",
    "\n",
    "# test\n",
    "llm.invoke(\"What is Generative AI?\")"
   ]
  },
  {
   "cell_type": "code",
   "execution_count": null,
   "id": "4e28d084-d847-4506-ac9a-0ec8d05409d2",
   "metadata": {},
   "outputs": [],
   "source": [
    "from langchain.document_loaders import PyPDFLoader\n",
    "loader = PyPDFLoader('https://arxiv.org/pdf/2402.07927')\n",
    "pages = loader.load()\n"
   ]
  },
  {
   "cell_type": "code",
   "execution_count": null,
   "id": "131ee2ef-5db6-43a9-8f29-5feaf7389204",
   "metadata": {},
   "outputs": [],
   "source": [
    "len(pages)\n"
   ]
  },
  {
   "cell_type": "code",
   "execution_count": null,
   "id": "59ce62b5-9e1c-4aa0-8773-9fbcbacc9b0e",
   "metadata": {},
   "outputs": [],
   "source": [
    "pages[5].page_content[0:500]"
   ]
  },
  {
   "cell_type": "code",
   "execution_count": null,
   "id": "2ed14509-424d-4a84-99fc-69b87c7e6709",
   "metadata": {},
   "outputs": [],
   "source": [
    "pages[5].metadata\n"
   ]
  },
  {
   "cell_type": "code",
   "execution_count": null,
   "id": "4cd47f78-26e0-4282-a652-4e227662ac2d",
   "metadata": {},
   "outputs": [],
   "source": [
    "from langchain.text_splitter import RecursiveCharacterTextSplitter\n",
    "text_splitter = RecursiveCharacterTextSplitter(\n",
    "    chunk_size = 1500,\n",
    "    chunk_overlap = 150\n",
    ")\n",
    "splits = text_splitter.split_documents(pages)"
   ]
  },
  {
   "cell_type": "code",
   "execution_count": null,
   "id": "d5a8b927-c6be-45ad-ab88-ac03410a5b03",
   "metadata": {},
   "outputs": [],
   "source": [
    "len(splits)"
   ]
  },
  {
   "cell_type": "code",
   "execution_count": null,
   "id": "76476a67-dcec-4e9b-9d2c-278ab35a72fb",
   "metadata": {},
   "outputs": [],
   "source": [
    "splits[2]\n"
   ]
  },
  {
   "cell_type": "code",
   "execution_count": null,
   "id": "e7c56edf-b178-41fd-8004-ff55e360e597",
   "metadata": {},
   "outputs": [],
   "source": [
    "from langchain_community.embeddings import LlamafileEmbeddings\n",
    "embedding = LlamafileEmbeddings()"
   ]
  },
  {
   "cell_type": "code",
   "execution_count": null,
   "id": "f4cc2a76-f1f7-4778-8d03-0a02474f3ece",
   "metadata": {},
   "outputs": [],
   "source": [
    "sentence1 = \"i like dogs\"\n",
    "sentence2 = \"i like canines\"\n",
    "sentence3 = \"the weather is ugly outside\"\n",
    "sentence4 = \"it is humid and hot\"\n",
    "\n",
    "embedding1 = embedding.embed_query(sentence1)\n",
    "embedding2 = embedding.embed_query(sentence2)\n",
    "embedding3 = embedding.embed_query(sentence3)\n",
    "embedding4 = embedding.embed_query(sentence4)"
   ]
  },
  {
   "cell_type": "code",
   "execution_count": null,
   "id": "11fcaefd-bc12-4e4e-b9e6-f4cc8649b0ea",
   "metadata": {},
   "outputs": [],
   "source": [
    "import numpy as np\n",
    "\n",
    "def cosine_similarity(vec1, vec2):\n",
    "    dot_product = np.dot(vec1, vec2)\n",
    "    magnitude_vec1 = np.linalg.norm(vec1)\n",
    "    magnitude_vec2 = np.linalg.norm(vec2)\n",
    "    similarity = dot_product / (magnitude_vec1 * magnitude_vec2)\n",
    "    print(f\"Cosine Similarity: {similarity}\")"
   ]
  },
  {
   "cell_type": "code",
   "execution_count": null,
   "id": "c9b2d449-81b0-4d63-9839-94bdc12b0dfe",
   "metadata": {},
   "outputs": [],
   "source": [
    "cosine_similarity(embedding1, embedding2)\n",
    "cosine_similarity(embedding2, embedding1)\n",
    "cosine_similarity(embedding1, embedding3)\n",
    "cosine_similarity(embedding3, embedding4)"
   ]
  },
  {
   "cell_type": "code",
   "execution_count": null,
   "id": "8dbba66e-7ec8-4305-87f4-47f03c5be990",
   "metadata": {},
   "outputs": [],
   "source": [
    "from langchain.vectorstores import Chroma\n",
    "persist_directory = 'db/chroma'"
   ]
  },
  {
   "cell_type": "code",
   "execution_count": null,
   "id": "d45ad2d1-b1e0-40fc-a71a-b573de622553",
   "metadata": {},
   "outputs": [],
   "source": [
    "vectordb = Chroma.from_documents(\n",
    "    documents=splits,\n",
    "    embedding=embedding,\n",
    "    persist_directory=persist_directory\n",
    ")"
   ]
  },
  {
   "cell_type": "code",
   "execution_count": null,
   "id": "4461411c-7627-4ea5-b985-a9a8b308f4eb",
   "metadata": {},
   "outputs": [],
   "source": [
    "print(vectordb._collection.count())"
   ]
  },
  {
   "cell_type": "code",
   "execution_count": null,
   "id": "eb5e4a2c-e494-41af-9860-da25ee0b7917",
   "metadata": {},
   "outputs": [],
   "source": [
    "question = \"what is chain of thoughts?\"\n",
    "docs = vectordb.similarity_search(question,k=3)"
   ]
  },
  {
   "cell_type": "code",
   "execution_count": null,
   "id": "2d07cdb1-81a6-4824-919c-08ebb8e4567d",
   "metadata": {},
   "outputs": [],
   "source": [
    "docs"
   ]
  },
  {
   "cell_type": "code",
   "execution_count": null,
   "id": "c93b873d-a3a0-452f-ae58-706cc1ba8300",
   "metadata": {},
   "outputs": [],
   "source": [
    "for page in docs:\n",
    "    print(f\"found in page {page.metadata['page']}\")"
   ]
  },
  {
   "cell_type": "code",
   "execution_count": null,
   "id": "ec581faf-f33d-42a5-be66-f54846cc8729",
   "metadata": {},
   "outputs": [],
   "source": [
    "docs[0].page_content"
   ]
  },
  {
   "cell_type": "code",
   "execution_count": null,
   "id": "34417059-b389-4a77-8545-3046b9b6da4a",
   "metadata": {},
   "outputs": [],
   "source": [
    "from langchain.chains import create_retrieval_chain\n",
    "from langchain.chains.combine_documents import create_stuff_documents_chain\n",
    "from langchain_core.prompts import ChatPromptTemplate\n",
    "\n",
    "system_prompt = (\n",
    "    \"Use the given context to answer the question. \"\n",
    "    \"If you don't know the answer, say you don't know. \"\n",
    "    \"Context: {context}\"\n",
    ")\n",
    "\n",
    "prompt = ChatPromptTemplate.from_messages(\n",
    "    [\n",
    "        (\"system\", system_prompt),\n",
    "        (\"human\", \"{input}\"),\n",
    "    ]\n",
    ")\n",
    "\n",
    "retriever =  vectordb.as_retriever()\n",
    "\n",
    "question_answer_chain = create_stuff_documents_chain(llm, prompt)\n",
    "chain = create_retrieval_chain(retriever, question_answer_chain)\n",
    "\n",
    "\n",
    "results = chain.invoke({\"input\": question})\n",
    "results\n"
   ]
  },
  {
   "cell_type": "code",
   "execution_count": null,
   "id": "dea5d6fb-d995-458d-9a5a-e0b26830732e",
   "metadata": {},
   "outputs": [],
   "source": [
    "results.keys()"
   ]
  },
  {
   "cell_type": "code",
   "execution_count": null,
   "id": "22beaf87-e92b-4656-ab2e-8620752d1456",
   "metadata": {},
   "outputs": [],
   "source": [
    "results['input']"
   ]
  },
  {
   "cell_type": "code",
   "execution_count": null,
   "id": "548111d0-856d-4f8d-b010-0a5710c45659",
   "metadata": {},
   "outputs": [],
   "source": [
    "results['context']"
   ]
  },
  {
   "cell_type": "code",
   "execution_count": null,
   "id": "7bd441a8-9eaa-4e34-a09b-f0efd9fb56d2",
   "metadata": {},
   "outputs": [],
   "source": [
    "print(results['answer'])"
   ]
  },
  {
   "cell_type": "code",
   "execution_count": null,
   "id": "56c14eb6-81f8-46ae-b82f-eccef1650319",
   "metadata": {},
   "outputs": [],
   "source": [
    "question = \"What are major topics for this paper?\"\n",
    "result = chain.invoke({\"input\": question})\n",
    "print(result['answer'])"
   ]
  },
  {
   "cell_type": "code",
   "execution_count": null,
   "id": "37aaacaa-b67f-49de-81d7-4030e2755593",
   "metadata": {},
   "outputs": [],
   "source": [
    "question = \"What was my last question?\"\n",
    "result = chain.invoke({\"input\": question})\n",
    "print(result['answer'])"
   ]
  },
  {
   "cell_type": "code",
   "execution_count": null,
   "id": "cd1fb4b9-10dc-4d78-a5a2-078844091ae0",
   "metadata": {},
   "outputs": [],
   "source": []
  },
  {
   "cell_type": "code",
   "execution_count": null,
   "id": "b3494beb-2744-459d-b2a8-faf0cbe2c480",
   "metadata": {},
   "outputs": [],
   "source": []
  }
 ],
 "metadata": {
  "kernelspec": {
   "display_name": "Python [conda env:llms]",
   "language": "python",
   "name": "conda-env-llms-py"
  },
  "language_info": {
   "codemirror_mode": {
    "name": "ipython",
    "version": 3
   },
   "file_extension": ".py",
   "mimetype": "text/x-python",
   "name": "python",
   "nbconvert_exporter": "python",
   "pygments_lexer": "ipython3",
   "version": "3.11.9"
  }
 },
 "nbformat": 4,
 "nbformat_minor": 5
}
