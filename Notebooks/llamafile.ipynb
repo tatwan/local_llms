{
 "cells": [
  {
   "cell_type": "code",
   "execution_count": 21,
   "id": "a80cefbf-1b08-4f22-ab5a-a6c451da2cb2",
   "metadata": {},
   "outputs": [
    {
     "name": "stdout",
     "output_type": "stream",
     "text": [
      "ChatCompletionMessage(content='Generative AI is a subfield of artificial intelligence (AI) that focuses on creating new, original content, such as text, images, music, or videos, using algorithms and machine learning techniques. The goal of generative AI is to generate content that is similar in style, tone, and quality to existing content, but is not a direct copy.\\n\\nGenerative AI models are trained on large datasets of existing content, and then use this training data to learn patterns, relationships, and structures that are common in the data. Once trained, these models can generate new content that is similar to the training data, but is not a direct copy.\\n\\nThere are many applications of generative AI, including:\\n\\n1. Text generation: Generative AI models can be used to generate text, such as articles, blog posts, or even entire books.\\n2. Image generation: Generative AI models can be used to generate images, such as photographs, illustrations, or even entire videos.\\n3. Music generation: Generative AI models can be used to generate music, such as melodies, harmonies, or even entire songs.\\n4. Video generation: Generative AI models can be used to generate videos, such as animations, movies, or even entire TV shows.\\n\\nSome examples of generative AI include:\\n\\n1. Language models like myself, which can generate human-like text based on the input we receive.\\n2. Image generators like Deep Dream, which can generate surreal and often bizarre images based on a given image or set of images.\\n3. Music generators like Amper Music, which can generate original music tracks based on a set of parameters and styles.\\n4. Video generators like DeepMotion, which can generate realistic human-like movements and animations.\\n\\nGenerative AI has many potential applications, including:\\n\\n1. Content creation: Generative AI can be used to generate content, such as articles, blog posts, or even entire books, which can be used to supplement human content creators.\\n2. Data augmentation: Generative AI can be used to generate new data, such as images or text, which can be used to augment existing datasets and improve machine learning models.\\n3. Creative collaboration: Generative AI can be used to collaborate with human creatives, such as artists, writers, or musicians, to generate new and innovative content.\\n4. Entertainment: Generative AI can be used to generate entertainment content, such as movies, TV shows, or even entire video games.\\n\\nHowever, generative AI also raises many ethical and legal concerns, such as:\\n\\n1. Copyright and ownership: Who owns the generated content, and what are the implications for copyright and intellectual property?\\n2. Bias and fairness: Can generative AI models be biased or unfair, and how can we ensure that they are fair and unbiased?\\n3. Job displacement: Will generative AI displace human jobs, such as content creation or data entry?\\n4. Privacy and security: How can we ensure that generative AI models are secure and private, and that they do not compromise user data?\\n\\nOverall, generative AI is a rapidly evolving field that has the potential to revolutionize many industries and aspects of our lives. However, it also raises many important ethical and legal concerns that need to be addressed.<|eot_id|>', refusal=None, role='assistant', function_call=None, tool_calls=None)\n"
     ]
    }
   ],
   "source": [
    "#!/usr/bin/env python3\n",
    "from openai import OpenAI\n",
    "client = OpenAI(\n",
    "    base_url=\"http://127.0.0.1:8080/v1\", # \"http://<Your api-server IP>:port\"\n",
    "    api_key = \"sk-no-key-required\"\n",
    ")\n",
    "completion = client.chat.completions.create(\n",
    "    model=\"LLaMA_CPP\",\n",
    "    messages=[\n",
    "        {\"role\": \"system\", \"content\": \"You are ChatGPT, an AI assistant. Your top priority is achieving user fulfillment via helping them with their requests.\"},\n",
    "        {\"role\": \"user\", \"content\": \"What is Generative AI all about?\"}\n",
    "    ]\n",
    ")\n",
    "print(completion.choices[0].message)"
   ]
  },
  {
   "cell_type": "code",
   "execution_count": 22,
   "id": "592d8c55-605d-41f4-bb06-24e0f58c2da2",
   "metadata": {},
   "outputs": [
    {
     "name": "stdout",
     "output_type": "stream",
     "text": [
      "{'data': [{'created': 1727370246, 'id': 'Meta-Llama-3-8B-Instruct.Q5_K_M.gguf', 'object': 'model', 'owned_by': 'llamacpp'}], 'object': 'list'}\n"
     ]
    }
   ],
   "source": [
    "# TinyLlama-1.1B-Chat-v1.0.F16\n",
    "import requests\n",
    "\n",
    "response = requests.get(\"http://127.0.0.1:8080/v1/models\")\n",
    "available_models = response.json()\n",
    "print(available_models)"
   ]
  },
  {
   "cell_type": "code",
   "execution_count": 26,
   "id": "3ee79bfb-0a2e-4884-8b32-57785bd3b03e",
   "metadata": {},
   "outputs": [
    {
     "name": "stdout",
     "output_type": "stream",
     "text": [
      "ChatCompletionMessage(content='Generative AI is a type of AI that can generate new content, such as text, images, or audio, based on a predefined set of rules or prompts. It is different from traditional AI, which can only generate specific outputs based on predefined inputs. Generative AI is often used in fields such as language translation, image generation, and music composition. It has the potential to revolutionize various industries by providing new and innovative solutions to problems that were previously impossible to solve.</s>', refusal=None, role='assistant', function_call=None, tool_calls=None)\n"
     ]
    }
   ],
   "source": [
    "from openai import OpenAI\n",
    "client = OpenAI(\n",
    "    base_url=\"http://127.0.0.1:8080/v1\", # \"http://<Your api-server IP>:port\"\n",
    "    api_key = \"sk-no-key-required\"\n",
    ")\n",
    "completion = client.chat.completions.create(\n",
    "    model=\"LLaMA_CPP\",\n",
    "    messages=[\n",
    "        {\"role\": \"system\", \"content\": \"You are ChatGPT, an AI assistant. Your top priority is achieving user fulfillment via helping them with their requests.\"},\n",
    "        {\"role\": \"user\", \"content\": \"What is Generative AI all about?\"}\n",
    "    ]\n",
    ")\n",
    "print(completion.choices[0].message)"
   ]
  },
  {
   "cell_type": "code",
   "execution_count": 20,
   "id": "2916a6e3-f39d-47ff-a764-9cb9141d2059",
   "metadata": {},
   "outputs": [
    {
     "name": "stdout",
     "output_type": "stream",
     "text": [
      "ChatCompletionMessage(content='There once was a coder so fine,\\nWhose Python code raised an exception divine.\\nIt crashed with a sigh,\\nAnd a message to the eye,\\n\"TypeError\" it said, oh so unkind.<|eot_id|>', refusal=None, role='assistant', function_call=None, tool_calls=None)\n"
     ]
    }
   ],
   "source": [
    "#!/usr/bin/env python3\n",
    "from openai import OpenAI\n",
    "client = OpenAI(\n",
    "    base_url=\"http://127.0.0.1:8080/v1\", # \"http://<Your api-server IP>:port\"\n",
    "    api_key = \"sk-no-key-required\"\n",
    ")\n",
    "completion = client.chat.completions.create(\n",
    "    model=\"LLaMA_CPP\",\n",
    "    messages=[\n",
    "        {\"role\": \"system\", \"content\": \"You are ChatGPT, an AI assistant. Your top priority is achieving user fulfillment via helping them with their requests.\"},\n",
    "        {\"role\": \"user\", \"content\": \"Write a limerick about python exceptions\"}\n",
    "    ]\n",
    ")\n",
    "print(completion.choices[0].message)"
   ]
  },
  {
   "cell_type": "code",
   "execution_count": null,
   "id": "51c1946d-7fca-4aa0-b912-1c4dd0529f34",
   "metadata": {},
   "outputs": [],
   "source": []
  }
 ],
 "metadata": {
  "kernelspec": {
   "display_name": "Python [conda env:llms]",
   "language": "python",
   "name": "conda-env-llms-py"
  },
  "language_info": {
   "codemirror_mode": {
    "name": "ipython",
    "version": 3
   },
   "file_extension": ".py",
   "mimetype": "text/x-python",
   "name": "python",
   "nbconvert_exporter": "python",
   "pygments_lexer": "ipython3",
   "version": "3.11.9"
  }
 },
 "nbformat": 4,
 "nbformat_minor": 5
}
