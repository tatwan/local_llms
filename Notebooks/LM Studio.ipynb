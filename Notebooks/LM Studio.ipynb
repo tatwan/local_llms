{
 "cells": [
  {
   "cell_type": "code",
   "execution_count": 2,
   "id": "e4bb8b56-ed78-4b11-b822-120219df84f9",
   "metadata": {},
   "outputs": [
    {
     "name": "stdout",
     "output_type": "stream",
     "text": [
      "ChatCompletionMessage(content=\"Generative AI refers to a subset of artificial intelligence that focuses on generating new content or data based on patterns and structures it has learned from existing information. This can include text, images, music, videos, or even entire worlds.\\n\\nThe core idea behind Generative AI is to use algorithms and machine learning techniques to create novel outputs that are similar in style and structure to the training data. These models learn to recognize and replicate the underlying patterns, relationships, and distributions present in the training data.\\n\\nSome common applications of Generative AI include:\\n\\n1. **Text Generation**: Generating news articles, stories, poems, or even entire books based on a given prompt or topic.\\n2. **Image Synthesis**: Creating realistic images or videos that resemble real-world scenes or objects.\\n3. **Music Composition**: Generating original music pieces or melodies based on a specific style or genre.\\n4. **Chatbots and Virtual Assistants**: Building conversational AI models that can engage in natural-sounding conversations with humans.\\n5. **Data Augmentation**: Creating new, synthetic data to supplement existing datasets for training machine learning models.\\n\\nGenerative AI is made possible by various techniques, including:\\n\\n1. **Neural Networks**: Complex algorithms inspired by the structure and function of the human brain.\\n2. **Autoencoders**: Neural networks that learn to compress and reconstruct input data.\\n3. **Variational Autoencoders (VAEs)**: A type of autoencoder that uses probabilistic latent spaces to represent complex distributions.\\n\\nThe benefits of Generative AI include:\\n\\n1. **Increased Creativity**: Generative models can produce novel outputs that may not have been possible for humans to create on their own.\\n2. **Improved Efficiency**: Automating the generation of content or data can save time and resources.\\n3. **Enhanced Data Quality**: Synthetic data can be used to augment existing datasets, improve model performance, or even generate entirely new data types.\\n\\nHowever, Generative AI also raises important concerns about:\\n\\n1. **Bias and Fairness**: Generated outputs may reflect biases present in the training data or algorithms.\\n2. **Authenticity and Trust**: It's essential to verify the authenticity of generated content and ensure that it meets necessary standards.\\n3. **Ethics and Responsibility**: Generative AI models should be designed with careful consideration for their potential impact on society.\\n\\nOverall, Generative AI has tremendous potential to transform various industries and aspects of our lives, but it requires careful development, deployment, and regulation to ensure its benefits are realized while minimizing risks.\", refusal=None, role='assistant', function_call=None, tool_calls=None)\n"
     ]
    }
   ],
   "source": [
    "# Example: reuse your existing OpenAI setup\n",
    "from openai import OpenAI\n",
    "\n",
    "# Point to the local serverx\n",
    "client = OpenAI(base_url=\"http://localhost:1234/v1\", api_key=\"lm-studio\")\n",
    "\n",
    "completion = client.chat.completions.create(\n",
    "  model=\"Meta-Llama-3.1-8B-Instruct-GGUF\",\n",
    "  messages=[\n",
    "    {\"role\": \"system\", \"content\": \"You are ChatGPT, an AI assistant. Your top priority is achieving user fulfillment via helping them with their requests.\"},\n",
    "    {\"role\": \"user\", \"content\": \"What is Generative AI all about?\"}\n",
    "  ],\n",
    "  temperature=0.7,\n",
    ")\n",
    "\n",
    "print(completion.choices[0].message)"
   ]
  },
  {
   "cell_type": "code",
   "execution_count": null,
   "id": "211e9d7b-22fc-4250-8694-ccde7ec0efc1",
   "metadata": {},
   "outputs": [],
   "source": []
  }
 ],
 "metadata": {
  "kernelspec": {
   "display_name": "Python [conda env:llms]",
   "language": "python",
   "name": "conda-env-llms-py"
  },
  "language_info": {
   "codemirror_mode": {
    "name": "ipython",
    "version": 3
   },
   "file_extension": ".py",
   "mimetype": "text/x-python",
   "name": "python",
   "nbconvert_exporter": "python",
   "pygments_lexer": "ipython3",
   "version": "3.11.9"
  }
 },
 "nbformat": 4,
 "nbformat_minor": 5
}
